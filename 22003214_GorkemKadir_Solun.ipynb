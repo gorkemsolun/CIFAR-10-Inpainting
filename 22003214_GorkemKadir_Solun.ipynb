{
 "cells": [
  {
   "cell_type": "markdown",
   "metadata": {
    "id": "YmlJ7FFJGA3k"
   },
   "source": [
    "**<h5></h5>**\n",
    "**<h1><center>CS 464</center></h1>**\n",
    "**<h1><center>Introduction to Machine Learning</center></h1>**\n",
    "**<h1><center>Fall 2024</center></h1>**\n",
    "**<h1><center>Homework 3</center></h1>**\n",
    "**<h1><center>Görkem Kadir Solun 22003214</center></h1>**\n",
    "<h4><center>Due: December 29, 2024 23:59 (GMT+3)</center></h4>"
   ]
  },
  {
   "cell_type": "markdown",
   "metadata": {
    "id": "kUQigqxM4JlE"
   },
   "source": [
    "## **CIFAR-10 Inpainting**"
   ]
  },
  {
   "cell_type": "markdown",
   "metadata": {
    "id": "4JLXD3sTR8Yv"
   },
   "source": [
    "### **Homework Description**"
   ]
  },
  {
   "cell_type": "markdown",
   "metadata": {
    "id": "EFNaqLRzD75v"
   },
   "source": [
    "In this assignment, you are asked to design and train a convolutional neural network model for the image inpainting task. In short, inpainting is a process of filling in the missing parts of an image. You will be applying this task on the [CIFAR-10](https://www.cs.toronto.edu/~kriz/cifar.html?ref=assemblyai.com) images. It contains RGB real-life images with the size of 32x32 pixel resolution. You can see a subset of the dataset below. The download link of the dataset is provided in the following parts.\n",
    "\n",
    "![CIFAR-100 Samples](https://drive.google.com/uc?export=view&id=1drp11GJ3QnRivkYLR0nh9RVOi9lnIh8o)\n",
    "\n",
    "**Using PyTorch is mandatory** for this assignment. You are requested to **submit only a single *.ipynb file** in your submissions (no report needed). If you want to provide further explanations about your work, you can add Markdown cells for this purpose. From [this link](https://www.markdownguide.org/), you can get familiar with the Markdown syntax if you need. Upload your homework with the following filename convention: **22003214_GorkemKadir_Solun.ipynb**\n",
    "\n",
    "Note that this assignment needs a CUDA-enabled GPU to be able to train the models in a reasonable time. If you do not have one, it is suggested to use the [Colab](https://colab.research.google.com/) environment.\n",
    "\n",
    "**Contact:** [İpek Öztaş](mailto:ipek.oztas@bilkent.edu.tr)"
   ]
  },
  {
   "cell_type": "markdown",
   "metadata": {
    "id": "rMvuukCeSkRE"
   },
   "source": [
    "### **Importing the Libraries**"
   ]
  },
  {
   "cell_type": "markdown",
   "metadata": {
    "id": "bcipuzDyJyMT"
   },
   "source": [
    "In the cell below,  some utilities that you can make use of in this assignment are imported. You can edit these imports considering your implementation as long as you use PyTorch."
   ]
  },
  {
   "cell_type": "code",
   "execution_count": null,
   "metadata": {
    "id": "7v0OO4-6SmNV"
   },
   "outputs": [],
   "source": [
    "import torch\n",
    "from torch import nn, optim\n",
    "from torch.utils.data import DataLoader, Dataset\n",
    "import torchvision\n",
    "from torchvision import transforms\n",
    "from PIL import Image\n",
    "from tqdm import tqdm\n",
    "import matplotlib.pyplot as plt\n",
    "import seaborn as sns  # This not used\n",
    "import numpy as np\n",
    "import random\n",
    "import os"
   ]
  },
  {
   "cell_type": "markdown",
   "metadata": {
    "id": "vLoc5OoAKDtr"
   },
   "source": [
    "### **Environment Check**"
   ]
  },
  {
   "cell_type": "markdown",
   "metadata": {
    "id": "KfGyOffcKG7u"
   },
   "source": [
    "In the cell below, you can test whether hardware acceleration with GPU is enabled in your machine or not. If it is enabled, the printed device should be 'cuda'."
   ]
  },
  {
   "cell_type": "code",
   "execution_count": null,
   "metadata": {
    "colab": {
     "base_uri": "https://localhost:8080/"
    },
    "id": "KaTYscuOLbjc",
    "outputId": "cc7d8362-29b7-4d23-e163-c04fa6267ab2"
   },
   "outputs": [
    {
     "name": "stdout",
     "output_type": "stream",
     "text": [
      "Current device: cuda\n",
      "GPU Name: Tesla T4\n",
      "Total GPU Memory: 14.7 GB\n"
     ]
    }
   ],
   "source": [
    "device = torch.device(\"cuda\" if torch.cuda.is_available() else \"cpu\")\n",
    "print(\"Current device:\", device)\n",
    "\n",
    "if device.type == \"cuda\":\n",
    "    print(\"GPU Name:\", torch.cuda.get_device_name(0))\n",
    "    print(\n",
    "        \"Total GPU Memory:\",\n",
    "        round(torch.cuda.get_device_properties(0).total_memory / 1024**3, 1),\n",
    "        \"GB\",\n",
    "    )"
   ]
  },
  {
   "cell_type": "markdown",
   "metadata": {
    "id": "BBK2IftRSvHf"
   },
   "source": [
    "### **Setting Library Seeds for Reproducibility**"
   ]
  },
  {
   "cell_type": "markdown",
   "metadata": {
    "id": "cOZICZTbMc2-"
   },
   "source": [
    "**DO NOT CHANGE**<br>\n",
    "To make a fair evaluation, the seed values are set for random sampling methods in PyTorch, NumPy, and Python random library. Please do not change these values."
   ]
  },
  {
   "cell_type": "code",
   "execution_count": null,
   "metadata": {
    "id": "3M5lcMwQStjy"
   },
   "outputs": [],
   "source": [
    "def seed_everything(seed):\n",
    "    random.seed(seed)\n",
    "    np.random.seed(seed)\n",
    "    torch.manual_seed(seed)\n",
    "    torch.cuda.manual_seed(seed)\n",
    "    torch.backends.cudnn.deterministic = True"
   ]
  },
  {
   "cell_type": "code",
   "execution_count": null,
   "metadata": {
    "id": "DJ1GUeFfSzN_"
   },
   "outputs": [],
   "source": [
    "seed_everything(464)"
   ]
  },
  {
   "cell_type": "markdown",
   "metadata": {
    "id": "h60dtOt5R_aE"
   },
   "source": [
    "### **Preparing the Dataset**"
   ]
  },
  {
   "cell_type": "markdown",
   "metadata": {
    "id": "Dzcz2jwcNKfK"
   },
   "source": [
    "The CIFAR-10 dataset is downloadable from [this link](https://drive.google.com/file/d/1KSKSWiBKvfxBpWmDmuRvUkn77YvWaIFW/view?usp=sharing). If you are using Colab or a Linux machine, you can uncomment and run the below cell to download and extract the dataset automatically."
   ]
  },
  {
   "cell_type": "code",
   "execution_count": null,
   "metadata": {
    "colab": {
     "base_uri": "https://localhost:8080/"
    },
    "id": "85HQtprVSD3p",
    "outputId": "97bddbdc-11bd-41a6-f112-1eae45b941d5"
   },
   "outputs": [
    {
     "name": "stdout",
     "output_type": "stream",
     "text": [
      "Drive already mounted at /content/drive; to attempt to forcibly remount, call drive.mount(\"/content/drive\", force_remount=True).\n",
      "Archive:  /content/drive/MyDrive/cifar10_dataset.zip\n",
      "replace train/9/2679.png? [y]es, [n]o, [A]ll, [N]one, [r]ename: N\n"
     ]
    }
   ],
   "source": [
    "# NOTE Change the data path to your data path\n",
    "from google.colab import drive\n",
    "print(\"Mounting Google Drive...\")\n",
    "print(\"Please have your data.zip ready on your Google Drive\")\n",
    "drive.mount('/content/drive')\n",
    "!unzip /content/drive/MyDrive/cifar10_dataset.zip"
   ]
  },
  {
   "cell_type": "markdown",
   "metadata": {
    "id": "ZhEiiIYxTBi9"
   },
   "source": [
    "### **Implementing a Custom Dataset [25 Points]**"
   ]
  },
  {
   "cell_type": "markdown",
   "metadata": {
    "id": "zGpUjWbWOBpJ"
   },
   "source": [
    "In this part, you are requested to implement a custom PyTorch dataset class that reads CIFAR-10 images from a dataset split folder. There are two split folders called train and test in the dataset. The model class should take the root directory of a split in the \\_\\_init\\_\\_ function and read the images accordingly. Before returning the requested images, you should apply the following steps:\n",
    "\n",
    "* Convert images to Tensor object\n",
    "* Normalize tensor values to scale them in the range of (-1,1)\n",
    "\n",
    "Note that reading images in the \\_\\_getitem\\_\\_ function makes the training process slow for this dataset because reading such small-sized images as a batch is slower than the forward pass process of a simple neural network. Therefore, it is suggested to read and store the images in an array in the \\_\\_init\\_\\_ function and return them in the \\_\\_getitem\\_\\_ function when they are requested by the DataLoader object."
   ]
  },
  {
   "cell_type": "code",
   "execution_count": null,
   "metadata": {
    "id": "ongUJiujS_UE"
   },
   "outputs": [],
   "source": [
    "class CifarDataset(Dataset):\n",
    "    \"\"\"\n",
    "    Custom dataset for the CIFAR-10 dataset\n",
    "\n",
    "    Args:\n",
    "        root_dir (str): The root directory of the dataset\n",
    "\n",
    "    Returns:\n",
    "        img (torch.Tensor): The image\n",
    "        label (int): The label of the image\n",
    "    \"\"\"\n",
    "\n",
    "    def __init__(self, root_dir):\n",
    "        self.classes = sorted(os.listdir(root_dir))\n",
    "        self.labels = []  # Store the labels of the images\n",
    "        self.paths = []  # Store the path of the images\n",
    "        self.transform = transforms.Compose(\n",
    "            [\n",
    "                # Resize the image to 32x32\n",
    "                transforms.Resize((32, 32)),\n",
    "                # Convert the image to a PyTorch tensor\n",
    "                transforms.ToTensor(),\n",
    "                # Normalize the images with mean and std of the dataset (-1, 1)\n",
    "                transforms.Normalize((0.5, 0.5, 0.5), (0.5, 0.5, 0.5)),\n",
    "            ]\n",
    "        )\n",
    "\n",
    "        for i, cls in enumerate(self.classes):\n",
    "            cls_path = os.path.join(root_dir, cls)\n",
    "            for img_name in os.listdir(cls_path):\n",
    "                self.labels.append(i)\n",
    "                self.paths.append(os.path.join(cls_path, img_name))\n",
    "\n",
    "        self.labels = sorted(self.labels)\n",
    "        self.paths = sorted(self.paths)\n",
    "\n",
    "    def __len__(self):\n",
    "        return len(self.paths)\n",
    "\n",
    "    def __getitem__(self, data_id):\n",
    "        img = Image.open(self.paths[data_id])\n",
    "        img = img.convert(\"RGB\")\n",
    "        img = self.transform(img)\n",
    "        # label = self.labels[data_id]\n",
    "        return img"
   ]
  },
  {
   "cell_type": "markdown",
   "metadata": {
    "id": "sqaS0ePeWzd3"
   },
   "source": [
    "Create a dataset and a data loader object for training and test splits. Set batch sizes to 64 and 512 for training and test data loaders, respectively. Enable shuffling in the training data loader and disable it in the test data loader."
   ]
  },
  {
   "cell_type": "code",
   "execution_count": null,
   "metadata": {
    "id": "g-RUAYGdTuVn"
   },
   "outputs": [],
   "source": [
    "train_dataset = CifarDataset(\"/content/train\")\n",
    "train_dataloader = DataLoader(train_dataset, batch_size=64, shuffle=True)\n",
    "\n",
    "test_dataset = CifarDataset(\"/content/test\")\n",
    "test_dataloader = DataLoader(test_dataset, batch_size=512, shuffle=False)"
   ]
  },
  {
   "cell_type": "markdown",
   "metadata": {
    "id": "XqYREQNbpQeR"
   },
   "source": [
    "**Do not change** the below code. If your implementation is correct, you should be seeing a grid of CIFAR-10 images properly."
   ]
  },
  {
   "cell_type": "code",
   "execution_count": null,
   "metadata": {
    "colab": {
     "base_uri": "https://localhost:8080/",
     "height": 138
    },
    "id": "ZnVU_VccT-Yi",
    "outputId": "24a60104-15b8-4271-dc6c-2aff813f697d"
   },
   "outputs": [
    {
     "data": {
      "image/png": "[encoded data removed]",
      "text/plain": [
       "<Figure size 640x480 with 1 Axes>"
      ]
     },
     "metadata": {},
     "output_type": "display_data"
    }
   ],
   "source": [
    "## Uncomment the cell when the dataloader is ready\n",
    "\n",
    "images = next(iter(train_dataloader))  # Taking one batch from the dataloader\n",
    "images = (images + 1) / 2\n",
    "grid_img = torchvision.utils.make_grid(images[:20], nrow=10)\n",
    "plt.axis(\"off\")\n",
    "plt.imshow(grid_img.permute(1, 2, 0))\n",
    "plt.show()"
   ]
  },
  {
   "cell_type": "markdown",
   "metadata": {
    "id": "Qx_XrpE44TlW"
   },
   "source": [
    "### **Constructing Convolutional Autoencoder Network [35 Points]**"
   ]
  },
  {
   "cell_type": "markdown",
   "metadata": {
    "id": "EC8HgZSPmUhS"
   },
   "source": [
    "Autoencoder networks learn how to compress and reconstruct input data. It consists of two networks called the encoder and the decoder. The encoder network compresses the input data, and the decoder network regenerates the data from its compressed version. In this part, you are requested to implement an autoencoder model using convolutional layers. The architecture of the convolutional autoencoder is shown in the below figure."
   ]
  },
  {
   "cell_type": "markdown",
   "metadata": {
    "id": "lw4yXKnke3M_"
   },
   "source": [
    "![Convolutional Autoencoder Architecture](https://drive.google.com/uc?export=view&id=19RqHo2PatyoFl7om8OUxBRb1uYAVGmhF)\n",
    "\n",
    "The (in_channel, out_channel) pairs of the layers should be defined as follows:\n",
    "\n",
    "**Encoder:**\n",
    "- (3, 16)\n",
    "- (16, 32)\n",
    "- (32, 64)\n",
    "\n",
    "**Decoder:**\n",
    "- (64, 32)\n",
    "- (32, 16)\n",
    "- (16, 3)\n",
    "\n",
    "You are free to choose the kernel and padding sizes of the layers. In each layer, [2D batch normalization](https://pytorch.org/docs/stable/generated/torch.nn.BatchNorm2d.html) should be applied and the resulting values should be passed through a LeakyReLU layer with slope 0.2, which is the activation function. Since the image pixel value range is set to [-1,1] in the dataset, the outputs should be bounded so. Therefore, you should be using a Tanh activation function in the last layer instead of the normalization and LeakyReLU layers.\n",
    "\n",
    "In the encoder part of the network, use max pooling in each layer for decreasing the resolution by half. The stride size should be set to one for the convolution layers. In the decoder network, use [transposed convolution](https://pytorch.org/docs/stable/generated/torch.nn.ConvTranspose2d.html) (deconvolution) layers with stride two for increasing the resolution back."
   ]
  },
  {
   "cell_type": "code",
   "execution_count": null,
   "metadata": {
    "id": "LHSbmwvcUMn6"
   },
   "outputs": [],
   "source": [
    "class CifarAutoencoder(nn.Module):\n",
    "    \"\"\"\n",
    "    The (in_channel, out_channel) pairs of the layers should be defined as follows:\n",
    "\n",
    "    **Encoder:**\n",
    "    - (3, 16)\n",
    "    - (16, 32)\n",
    "    - (32, 64)\n",
    "\n",
    "    **Decoder:**\n",
    "    - (64, 32)\n",
    "    - (32, 16)\n",
    "    - (16, 3)\n",
    "\n",
    "    You are free to choose the kernel and padding sizes of the layers. In each layer, [2D batch normalization](https://pytorch.org/docs/stable/generated/torch.nn.BatchNorm2d.html) should be applied and the resulting values should be passed through a LeakyReLU layer with slope 0.2, which is the activation function. Since the image pixel value range is set to [-1,1] in the dataset, the outputs should be bounded so. Therefore, you should be using a Tanh activation function in the last layer instead of the normalization and LeakyReLU layers.\n",
    "\n",
    "    In the encoder part of the network, use max pooling in each layer for decreasing the resolution by half. The stride size should be set to one for the convolution layers. In the decoder network, use [transposed convolution](https://pytorch.org/docs/stable/generated/torch.nn.ConvTranspose2d.html) (deconvolution) layers with stride two for increasing the resolution back.\n",
    "    \"\"\"\n",
    "\n",
    "    def __init__(self):\n",
    "        super(CifarAutoencoder, self).__init__()\n",
    "\n",
    "        # The input size of the encoder should be 3x32x32\n",
    "        # The output size of the encoder is 64x2x2\n",
    "        self.encoder = nn.Sequential(\n",
    "            # Define the encoder layers\n",
    "            nn.Conv2d(3, 16, kernel_size=3, stride=1, padding=1),  # 32x32\n",
    "            nn.BatchNorm2d(16),  # 32x32\n",
    "            nn.LeakyReLU(0.2),  # 32x32\n",
    "            nn.MaxPool2d(kernel_size=2, stride=2),  # 16x16\n",
    "            nn.Conv2d(16, 32, kernel_size=3, stride=1, padding=1),  # 16x16\n",
    "            nn.BatchNorm2d(32),  # 8x8\n",
    "            nn.LeakyReLU(0.2),  # 8x8\n",
    "            nn.MaxPool2d(kernel_size=2, stride=2),  # 8x8\n",
    "            nn.Conv2d(32, 64, kernel_size=3, stride=1, padding=1),  # 8x8\n",
    "            nn.BatchNorm2d(64),  # 4x4\n",
    "            nn.LeakyReLU(0.2),  # 4x4\n",
    "            nn.MaxPool2d(kernel_size=2, stride=2),  # 4x4\n",
    "        )\n",
    "\n",
    "        # The output size of the encoder is 64x2x2\n",
    "        # The input size of the decoder should be 64x2x2\n",
    "        self.decoder = nn.Sequential(\n",
    "            # Define the decoder layers\n",
    "            nn.ConvTranspose2d(64, 32, kernel_size=2, stride=2),  # 8x8\n",
    "            nn.BatchNorm2d(32),  # 8x8\n",
    "            nn.LeakyReLU(0.2),  # 8x8\n",
    "            nn.ConvTranspose2d(32, 16, kernel_size=2, stride=2),  # 16x16\n",
    "            nn.BatchNorm2d(16),  # 16x16\n",
    "            nn.LeakyReLU(0.2),  # 16x16\n",
    "            nn.ConvTranspose2d(16, 3, kernel_size=2, stride=2),  # 32x32\n",
    "            nn.Tanh(),  # 32x32\n",
    "        )\n",
    "\n",
    "        print(\"Autoencoder created successfully\")\n",
    "\n",
    "    def forward(self, x):\n",
    "        # The forward pass of the network\n",
    "        return self.decoder(self.encoder(x))"
   ]
  },
  {
   "cell_type": "markdown",
   "metadata": {
    "id": "9YwxmMCrWjtb"
   },
   "source": [
    "### **Implementing the Training Loop [15 Points]**"
   ]
  },
  {
   "cell_type": "markdown",
   "metadata": {
    "id": "6xMSf3sofmJz"
   },
   "source": [
    "Define your training loop in this function. In the following parts, this function will be called to train the convolutional autoencoder. The input arguments are provided below. Apply the training progress and return a list of losses that are calculated on each epoch. You should sum the iteration losses up during an epoch and take the mean of them to calculate the running loss of that epoch.\n",
    "\n",
    "To be able to learn inpainting, you should mask the input images as follows:\n",
    "\n",
    "![CIFAR Masking](https://drive.google.com/uc?export=view&id=1tlB0mNH4B5dKfokoe162qWgXgPDnOQi2)\n",
    "\n",
    "Simply, you should set the input tensor columns starting from 16 to 32 as -1 (black pixel). For the loss function, you should use the original image as the ground truth image so that the network learns how to fill the masked area of the input image and output the restored image. Before assigning the black pixels, do not forget to clone the original image to use it later in the loss function."
   ]
  },
  {
   "cell_type": "code",
   "execution_count": null,
   "metadata": {
    "id": "cifEP9HEWQde"
   },
   "outputs": [],
   "source": [
    "def train_model(model, train_dataloader, optimizer, loss_func, num_epochs):\n",
    "    \"\"\"\n",
    "    Train the model with the given parameters\n",
    "\n",
    "    Args:\n",
    "        model (nn.Module): The model to be trained\n",
    "        train_dataloader (DataLoader): The dataloader for the training dataset\n",
    "        optimizer (torch.optim): The optimizer to be used\n",
    "        loss_func (torch.nn): The loss function to be used\n",
    "        num_epochs (int): The number of epochs to train the model\n",
    "\n",
    "    Returns:\n",
    "        epoch_losses (list): The loss value for each epoch\n",
    "    \"\"\"\n",
    "\n",
    "\n",
    "    model.train()  # Set the model to training mode\n",
    "\n",
    "    model = model.to(device)\n",
    "\n",
    "    epoch_losses = []  # Store the loss value for each epoch\n",
    "\n",
    "    print(\"Training the model...\")\n",
    "\n",
    "\n",
    "    for epoch in range(num_epochs):\n",
    "\n",
    "        epoch_loss = 0.0  # Store the loss value for each epoch\n",
    "\n",
    "        model = model.to(device)\n",
    "\n",
    "\n",
    "        for images in tqdm(train_dataloader):\n",
    "\n",
    "            images = images.to(device)\n",
    "\n",
    "            # Mask the images by setting the second half of the pixels to -1\n",
    "\n",
    "            masked_images = images.clone()\n",
    "\n",
    "            masked_images[:, :, :, 16:32] = -1\n",
    "\n",
    "\n",
    "            # Forward pass and calculate the loss\n",
    "\n",
    "            outputs = model(masked_images)\n",
    "\n",
    "            loss = loss_func(outputs, images)\n",
    "\n",
    "\n",
    "            # Backward pass and optimize\n",
    "\n",
    "            optimizer.zero_grad()\n",
    "\n",
    "            loss.backward()\n",
    "\n",
    "            optimizer.step()\n",
    "\n",
    "\n",
    "            epoch_loss += loss.item()\n",
    "\n",
    "\n",
    "        # Calculate the mean loss for the epoch\n",
    "\n",
    "        epoch_loss /= len(train_dataloader)\n",
    "        epoch_losses.append(epoch_loss)\n",
    "\n",
    "        print(f\"Epoch {epoch + 1}/{num_epochs}, Loss: {epoch_loss:.4f}\")\n",
    "\n",
    "\n",
    "    print(\"Finished training.\")\n",
    "    return epoch_losses"
   ]
  },
  {
   "cell_type": "markdown",
   "metadata": {
    "id": "ms6LRikETyds"
   },
   "source": [
    "### **Implementing the Evaluation Function [15 Points]**"
   ]
  },
  {
   "cell_type": "markdown",
   "metadata": {
    "id": "3XTr6dpe-0NN"
   },
   "source": [
    "Implement an evaluation function that returns the mean MSE calculated over the test dataset samples."
   ]
  },
  {
   "cell_type": "code",
   "execution_count": null,
   "metadata": {
    "id": "JW-RK7vDT3l9"
   },
   "outputs": [],
   "source": [
    "def evaluate_model(model, test_dataloader):\n",
    "    \"\"\"\n",
    "    Evaluate the model with the given parameters\n",
    "\n",
    "    Args:\n",
    "        model (nn.Module): The model to be evaluated\n",
    "        test_dataloader (DataLoader): The dataloader for the test dataset\n",
    "\n",
    "    Returns:\n",
    "        mean_loss (float): The mean loss of the test dataset\n",
    "    \"\"\"\n",
    "\n",
    "\n",
    "    total_loss = 0.0  # Store the total loss of the test dataset\n",
    "\n",
    "    num_images = 0  # Store the number of images in the test dataset\n",
    "\n",
    "    model = model.to(device)\n",
    "\n",
    "    print(\"Evaluating the model...\")\n",
    "\n",
    "\n",
    "    with torch.no_grad():\n",
    "\n",
    "        for images in tqdm(test_dataloader):\n",
    "\n",
    "            images = images.to(device)\n",
    "\n",
    "            # Mask the images by setting the second half of the pixels to -1\n",
    "\n",
    "            masked_images = images.clone()\n",
    "\n",
    "            masked_images[:, :, :, 16:32] = -1\n",
    "\n",
    "\n",
    "            outputs = model(masked_images)  # Get the output from the model\n",
    "\n",
    "            print(outputs.shape)\n",
    "\n",
    "            print(images.shape)\n",
    "\n",
    "            loss = nn.MSELoss(reduction=\"mean\")(\n",
    "\n",
    "                outputs, images\n",
    "\n",
    "            )  # Calculate the MSE loss\n",
    "\n",
    "\n",
    "            total_loss += loss.item()\n",
    "\n",
    "            num_images += len(images)\n",
    "\n",
    "\n",
    "    # Return the mean loss of the test dataset\n",
    "    print(\"Finished evaluation.\")\n",
    "\n",
    "    return total_loss / num_images"
   ]
  },
  {
   "cell_type": "markdown",
   "metadata": {
    "id": "UjkRLMF0ZCtk"
   },
   "source": [
    "### **Inpainting Visualization Function**"
   ]
  },
  {
   "cell_type": "markdown",
   "metadata": {
    "id": "hI4ZNkVq_onm"
   },
   "source": [
    "The below code will be used to visualize the outputs of the trained models later. **Do not change the codes in the cell**."
   ]
  },
  {
   "cell_type": "code",
   "execution_count": null,
   "metadata": {
    "id": "VAuNmuIelqzI"
   },
   "outputs": [],
   "source": [
    "def visualize_inpainting(model, dataset):\n",
    "    seed_everything(464)\n",
    "    dataloader = DataLoader(dataset, batch_size=10, shuffle=True)\n",
    "    images = next(iter(dataloader))  # Taking one batch from the dataloader\n",
    "    images = images\n",
    "    model.eval()\n",
    "    with torch.no_grad():\n",
    "        masked_images = images.clone()\n",
    "        masked_images[:, :, :, 16:] = -1\n",
    "        inpainted_images = model(masked_images.cuda()).cpu()\n",
    "    images = (images + 1) / 2\n",
    "    masked_images = (masked_images + 1) / 2\n",
    "    inpainted_images = (inpainted_images + 1) / 2\n",
    "    images_concat = torch.cat((images, masked_images, inpainted_images), dim=2)\n",
    "    grid_img = torchvision.utils.make_grid(images_concat, nrow=10)\n",
    "    plt.axis(\"off\")\n",
    "    plt.imshow(grid_img.permute(1, 2, 0))\n",
    "    plt.show()"
   ]
  },
  {
   "cell_type": "markdown",
   "metadata": {
    "id": "0JOGHIOakmL-"
   },
   "source": [
    "### **Training and Evaluating the Model [10 Points]**"
   ]
  },
  {
   "cell_type": "markdown",
   "metadata": {
    "id": "lYdoryMh_9HN"
   },
   "source": [
    "Define your loss function as MSE, set learning rate to 2e-4, create Adam optimizer, and set number of epochs to 50. Later, call the train_model function that you implemented. Visualize the returned losses on a plot (loss vs. epoch). Lastly, call evaluate_model function that you implemented and print the mean square error that your model reached on the test dataset. Also, call the visualize_inpainting function to observe the final inpainting results on the test dataset.\n",
    "\n"
   ]
  },
  {
   "cell_type": "code",
   "execution_count": null,
   "metadata": {
    "colab": {
     "base_uri": "https://localhost:8080/",
     "height": 1000
    },
    "id": "8JhkdYbwiw0s",
    "outputId": "8e7d9dfa-691a-4133-99c8-90868d8f8da1"
   },
   "outputs": [
    {
     "name": "stderr",
     "output_type": "stream",
     "text": [
      "100%|██████████| 782/782 [00:34<00:00, 22.43it/s]\n"
     ]
    },
    {
     "name": "stdout",
     "output_type": "stream",
     "text": [
      "Epoch 1/50, Loss: 0.1605\n"
     ]
    },
    {
     "name": "stderr",
     "output_type": "stream",
     "text": [
      "100%|██████████| 782/782 [00:38<00:00, 20.53it/s]\n"
     ]
    },
    {
     "name": "stdout",
     "output_type": "stream",
     "text": [
      "Epoch 2/50, Loss: 0.1180\n"
     ]
    },
    {
     "name": "stderr",
     "output_type": "stream",
     "text": [
      "100%|██████████| 782/782 [00:34<00:00, 22.44it/s]\n"
     ]
    },
    {
     "name": "stdout",
     "output_type": "stream",
     "text": [
      "Epoch 3/50, Loss: 0.1137\n"
     ]
    },
    {
     "name": "stderr",
     "output_type": "stream",
     "text": [
      "100%|██████████| 782/782 [00:37<00:00, 21.04it/s]\n"
     ]
    },
    {
     "name": "stdout",
     "output_type": "stream",
     "text": [
      "Epoch 4/50, Loss: 0.1110\n"
     ]
    },
    {
     "name": "stderr",
     "output_type": "stream",
     "text": [
      "100%|██████████| 782/782 [00:35<00:00, 21.75it/s]\n"
     ]
    },
    {
     "name": "stdout",
     "output_type": "stream",
     "text": [
      "Epoch 5/50, Loss: 0.1091\n"
     ]
    },
    {
     "name": "stderr",
     "output_type": "stream",
     "text": [
      "100%|██████████| 782/782 [00:35<00:00, 22.32it/s]\n"
     ]
    },
    {
     "name": "stdout",
     "output_type": "stream",
     "text": [
      "Epoch 6/50, Loss: 0.1079\n"
     ]
    },
    {
     "name": "stderr",
     "output_type": "stream",
     "text": [
      "100%|██████████| 782/782 [00:34<00:00, 22.73it/s]\n"
     ]
    },
    {
     "name": "stdout",
     "output_type": "stream",
     "text": [
      "Epoch 7/50, Loss: 0.1070\n"
     ]
    },
    {
     "name": "stderr",
     "output_type": "stream",
     "text": [
      "100%|██████████| 782/782 [00:34<00:00, 22.63it/s]\n"
     ]
    },
    {
     "name": "stdout",
     "output_type": "stream",
     "text": [
      "Epoch 8/50, Loss: 0.1063\n"
     ]
    },
    {
     "name": "stderr",
     "output_type": "stream",
     "text": [
      "100%|██████████| 782/782 [00:33<00:00, 23.51it/s]\n"
     ]
    },
    {
     "name": "stdout",
     "output_type": "stream",
     "text": [
      "Epoch 9/50, Loss: 0.1058\n"
     ]
    },
    {
     "name": "stderr",
     "output_type": "stream",
     "text": [
      "100%|██████████| 782/782 [00:35<00:00, 22.21it/s]\n"
     ]
    },
    {
     "name": "stdout",
     "output_type": "stream",
     "text": [
      "Epoch 10/50, Loss: 0.1054\n"
     ]
    },
    {
     "name": "stderr",
     "output_type": "stream",
     "text": [
      "100%|██████████| 782/782 [00:35<00:00, 22.10it/s]\n"
     ]
    },
    {
     "name": "stdout",
     "output_type": "stream",
     "text": [
      "Epoch 11/50, Loss: 0.1050\n"
     ]
    },
    {
     "name": "stderr",
     "output_type": "stream",
     "text": [
      "100%|██████████| 782/782 [00:33<00:00, 23.50it/s]\n"
     ]
    },
    {
     "name": "stdout",
     "output_type": "stream",
     "text": [
      "Epoch 12/50, Loss: 0.1046\n"
     ]
    },
    {
     "name": "stderr",
     "output_type": "stream",
     "text": [
      "100%|██████████| 782/782 [00:33<00:00, 23.06it/s]\n"
     ]
    },
    {
     "name": "stdout",
     "output_type": "stream",
     "text": [
      "Epoch 13/50, Loss: 0.1043\n"
     ]
    },
    {
     "name": "stderr",
     "output_type": "stream",
     "text": [
      "100%|██████████| 782/782 [00:33<00:00, 23.55it/s]\n"
     ]
    },
    {
     "name": "stdout",
     "output_type": "stream",
     "text": [
      "Epoch 14/50, Loss: 0.1040\n"
     ]
    },
    {
     "name": "stderr",
     "output_type": "stream",
     "text": [
      "100%|██████████| 782/782 [00:33<00:00, 23.24it/s]\n"
     ]
    },
    {
     "name": "stdout",
     "output_type": "stream",
     "text": [
      "Epoch 15/50, Loss: 0.1038\n"
     ]
    },
    {
     "name": "stderr",
     "output_type": "stream",
     "text": [
      "100%|██████████| 782/782 [00:33<00:00, 23.52it/s]\n"
     ]
    },
    {
     "name": "stdout",
     "output_type": "stream",
     "text": [
      "Epoch 16/50, Loss: 0.1035\n"
     ]
    },
    {
     "name": "stderr",
     "output_type": "stream",
     "text": [
      "100%|██████████| 782/782 [00:33<00:00, 23.55it/s]\n"
     ]
    },
    {
     "name": "stdout",
     "output_type": "stream",
     "text": [
      "Epoch 17/50, Loss: 0.1033\n"
     ]
    },
    {
     "name": "stderr",
     "output_type": "stream",
     "text": [
      "100%|██████████| 782/782 [00:35<00:00, 21.87it/s]\n"
     ]
    },
    {
     "name": "stdout",
     "output_type": "stream",
     "text": [
      "Epoch 18/50, Loss: 0.1031\n"
     ]
    },
    {
     "name": "stderr",
     "output_type": "stream",
     "text": [
      "100%|██████████| 782/782 [00:35<00:00, 21.98it/s]\n"
     ]
    },
    {
     "name": "stdout",
     "output_type": "stream",
     "text": [
      "Epoch 19/50, Loss: 0.1029\n"
     ]
    },
    {
     "name": "stderr",
     "output_type": "stream",
     "text": [
      "100%|██████████| 782/782 [00:35<00:00, 22.26it/s]\n"
     ]
    },
    {
     "name": "stdout",
     "output_type": "stream",
     "text": [
      "Epoch 20/50, Loss: 0.1027\n"
     ]
    },
    {
     "name": "stderr",
     "output_type": "stream",
     "text": [
      "100%|██████████| 782/782 [00:34<00:00, 22.84it/s]\n"
     ]
    },
    {
     "name": "stdout",
     "output_type": "stream",
     "text": [
      "Epoch 21/50, Loss: 0.1026\n"
     ]
    },
    {
     "name": "stderr",
     "output_type": "stream",
     "text": [
      "100%|██████████| 782/782 [00:38<00:00, 20.34it/s]\n"
     ]
    },
    {
     "name": "stdout",
     "output_type": "stream",
     "text": [
      "Epoch 22/50, Loss: 0.1025\n"
     ]
    },
    {
     "name": "stderr",
     "output_type": "stream",
     "text": [
      "100%|██████████| 782/782 [00:37<00:00, 20.87it/s]\n"
     ]
    },
    {
     "name": "stdout",
     "output_type": "stream",
     "text": [
      "Epoch 23/50, Loss: 0.1023\n"
     ]
    },
    {
     "name": "stderr",
     "output_type": "stream",
     "text": [
      "100%|██████████| 782/782 [00:36<00:00, 21.46it/s]\n"
     ]
    },
    {
     "name": "stdout",
     "output_type": "stream",
     "text": [
      "Epoch 24/50, Loss: 0.1022\n"
     ]
    },
    {
     "name": "stderr",
     "output_type": "stream",
     "text": [
      "100%|██████████| 782/782 [00:37<00:00, 20.98it/s]\n"
     ]
    },
    {
     "name": "stdout",
     "output_type": "stream",
     "text": [
      "Epoch 25/50, Loss: 0.1021\n"
     ]
    },
    {
     "name": "stderr",
     "output_type": "stream",
     "text": [
      "100%|██████████| 782/782 [00:36<00:00, 21.19it/s]\n"
     ]
    },
    {
     "name": "stdout",
     "output_type": "stream",
     "text": [
      "Epoch 26/50, Loss: 0.1020\n"
     ]
    },
    {
     "name": "stderr",
     "output_type": "stream",
     "text": [
      "100%|██████████| 782/782 [00:34<00:00, 22.68it/s]\n"
     ]
    },
    {
     "name": "stdout",
     "output_type": "stream",
     "text": [
      "Epoch 27/50, Loss: 0.1019\n"
     ]
    },
    {
     "name": "stderr",
     "output_type": "stream",
     "text": [
      "100%|██████████| 782/782 [00:35<00:00, 21.88it/s]\n"
     ]
    },
    {
     "name": "stdout",
     "output_type": "stream",
     "text": [
      "Epoch 28/50, Loss: 0.1018\n"
     ]
    },
    {
     "name": "stderr",
     "output_type": "stream",
     "text": [
      "100%|██████████| 782/782 [00:34<00:00, 22.84it/s]\n"
     ]
    },
    {
     "name": "stdout",
     "output_type": "stream",
     "text": [
      "Epoch 29/50, Loss: 0.1017\n"
     ]
    },
    {
     "name": "stderr",
     "output_type": "stream",
     "text": [
      "100%|██████████| 782/782 [00:35<00:00, 21.88it/s]\n"
     ]
    },
    {
     "name": "stdout",
     "output_type": "stream",
     "text": [
      "Epoch 30/50, Loss: 0.1016\n"
     ]
    },
    {
     "name": "stderr",
     "output_type": "stream",
     "text": [
      "100%|██████████| 782/782 [00:34<00:00, 22.55it/s]\n"
     ]
    },
    {
     "name": "stdout",
     "output_type": "stream",
     "text": [
      "Epoch 31/50, Loss: 0.1016\n"
     ]
    },
    {
     "name": "stderr",
     "output_type": "stream",
     "text": [
      "100%|██████████| 782/782 [00:34<00:00, 22.38it/s]\n"
     ]
    },
    {
     "name": "stdout",
     "output_type": "stream",
     "text": [
      "Epoch 32/50, Loss: 0.1015\n"
     ]
    },
    {
     "name": "stderr",
     "output_type": "stream",
     "text": [
      "100%|██████████| 782/782 [00:34<00:00, 23.00it/s]\n"
     ]
    },
    {
     "name": "stdout",
     "output_type": "stream",
     "text": [
      "Epoch 33/50, Loss: 0.1014\n"
     ]
    },
    {
     "name": "stderr",
     "output_type": "stream",
     "text": [
      "100%|██████████| 782/782 [00:34<00:00, 22.53it/s]\n"
     ]
    },
    {
     "name": "stdout",
     "output_type": "stream",
     "text": [
      "Epoch 34/50, Loss: 0.1013\n"
     ]
    },
    {
     "name": "stderr",
     "output_type": "stream",
     "text": [
      "100%|██████████| 782/782 [00:34<00:00, 22.47it/s]\n"
     ]
    },
    {
     "name": "stdout",
     "output_type": "stream",
     "text": [
      "Epoch 35/50, Loss: 0.1012\n"
     ]
    },
    {
     "name": "stderr",
     "output_type": "stream",
     "text": [
      "100%|██████████| 782/782 [00:35<00:00, 22.12it/s]\n"
     ]
    },
    {
     "name": "stdout",
     "output_type": "stream",
     "text": [
      "Epoch 36/50, Loss: 0.1011\n"
     ]
    },
    {
     "name": "stderr",
     "output_type": "stream",
     "text": [
      "100%|██████████| 782/782 [00:35<00:00, 22.10it/s]\n"
     ]
    },
    {
     "name": "stdout",
     "output_type": "stream",
     "text": [
      "Epoch 37/50, Loss: 0.1011\n"
     ]
    },
    {
     "name": "stderr",
     "output_type": "stream",
     "text": [
      "100%|██████████| 782/782 [00:35<00:00, 22.05it/s]\n"
     ]
    },
    {
     "name": "stdout",
     "output_type": "stream",
     "text": [
      "Epoch 38/50, Loss: 0.1010\n"
     ]
    },
    {
     "name": "stderr",
     "output_type": "stream",
     "text": [
      "100%|██████████| 782/782 [00:35<00:00, 22.00it/s]\n"
     ]
    },
    {
     "name": "stdout",
     "output_type": "stream",
     "text": [
      "Epoch 39/50, Loss: 0.1010\n"
     ]
    },
    {
     "name": "stderr",
     "output_type": "stream",
     "text": [
      "100%|██████████| 782/782 [00:35<00:00, 22.06it/s]\n"
     ]
    },
    {
     "name": "stdout",
     "output_type": "stream",
     "text": [
      "Epoch 40/50, Loss: 0.1009\n"
     ]
    },
    {
     "name": "stderr",
     "output_type": "stream",
     "text": [
      "100%|██████████| 782/782 [00:35<00:00, 21.93it/s]\n"
     ]
    },
    {
     "name": "stdout",
     "output_type": "stream",
     "text": [
      "Epoch 41/50, Loss: 0.1009\n"
     ]
    },
    {
     "name": "stderr",
     "output_type": "stream",
     "text": [
      "100%|██████████| 782/782 [00:35<00:00, 22.22it/s]\n"
     ]
    },
    {
     "name": "stdout",
     "output_type": "stream",
     "text": [
      "Epoch 42/50, Loss: 0.1008\n"
     ]
    },
    {
     "name": "stderr",
     "output_type": "stream",
     "text": [
      "100%|██████████| 782/782 [00:36<00:00, 21.47it/s]\n"
     ]
    },
    {
     "name": "stdout",
     "output_type": "stream",
     "text": [
      "Epoch 43/50, Loss: 0.1007\n"
     ]
    },
    {
     "name": "stderr",
     "output_type": "stream",
     "text": [
      "100%|██████████| 782/782 [00:35<00:00, 22.27it/s]\n"
     ]
    },
    {
     "name": "stdout",
     "output_type": "stream",
     "text": [
      "Epoch 44/50, Loss: 0.1007\n"
     ]
    },
    {
     "name": "stderr",
     "output_type": "stream",
     "text": [
      "100%|██████████| 782/782 [00:35<00:00, 22.15it/s]\n"
     ]
    },
    {
     "name": "stdout",
     "output_type": "stream",
     "text": [
      "Epoch 45/50, Loss: 0.1007\n"
     ]
    },
    {
     "name": "stderr",
     "output_type": "stream",
     "text": [
      "100%|██████████| 782/782 [00:34<00:00, 22.46it/s]\n"
     ]
    },
    {
     "name": "stdout",
     "output_type": "stream",
     "text": [
      "Epoch 46/50, Loss: 0.1006\n"
     ]
    },
    {
     "name": "stderr",
     "output_type": "stream",
     "text": [
      "100%|██████████| 782/782 [00:35<00:00, 22.30it/s]\n"
     ]
    },
    {
     "name": "stdout",
     "output_type": "stream",
     "text": [
      "Epoch 47/50, Loss: 0.1006\n"
     ]
    },
    {
     "name": "stderr",
     "output_type": "stream",
     "text": [
      "100%|██████████| 782/782 [00:35<00:00, 22.12it/s]\n"
     ]
    },
    {
     "name": "stdout",
     "output_type": "stream",
     "text": [
      "Epoch 48/50, Loss: 0.1006\n"
     ]
    },
    {
     "name": "stderr",
     "output_type": "stream",
     "text": [
      "100%|██████████| 782/782 [00:36<00:00, 21.69it/s]\n"
     ]
    },
    {
     "name": "stdout",
     "output_type": "stream",
     "text": [
      "Epoch 49/50, Loss: 0.1005\n"
     ]
    },
    {
     "name": "stderr",
     "output_type": "stream",
     "text": [
      "100%|██████████| 782/782 [00:34<00:00, 22.37it/s]\n"
     ]
    },
    {
     "name": "stdout",
     "output_type": "stream",
     "text": [
      "Epoch 50/50, Loss: 0.1005\n"
     ]
    },
    {
     "data": {
      "image/png": "[encoded data removed]",
      "text/plain": [
       "<Figure size 1000x500 with 1 Axes>"
      ]
     },
     "metadata": {},
     "output_type": "display_data"
    },
    {
     "name": "stderr",
     "output_type": "stream",
     "text": [
      "  5%|▌         | 1/20 [00:00<00:06,  2.80it/s]"
     ]
    },
    {
     "name": "stdout",
     "output_type": "stream",
     "text": [
      "torch.Size([512, 3, 32, 32])\n",
      "torch.Size([512, 3, 32, 32])\n"
     ]
    },
    {
     "name": "stderr",
     "output_type": "stream",
     "text": [
      "\r 10%|█         | 2/20 [00:00<00:06,  2.79it/s]"
     ]
    },
    {
     "name": "stdout",
     "output_type": "stream",
     "text": [
      "torch.Size([512, 3, 32, 32])\n",
      "torch.Size([512, 3, 32, 32])\n"
     ]
    },
    {
     "name": "stderr",
     "output_type": "stream",
     "text": [
      "\r 15%|█▌        | 3/20 [00:01<00:06,  2.83it/s]"
     ]
    },
    {
     "name": "stdout",
     "output_type": "stream",
     "text": [
      "torch.Size([512, 3, 32, 32])\n",
      "torch.Size([512, 3, 32, 32])\n"
     ]
    },
    {
     "name": "stderr",
     "output_type": "stream",
     "text": [
      "\r 20%|██        | 4/20 [00:01<00:05,  2.79it/s]"
     ]
    },
    {
     "name": "stdout",
     "output_type": "stream",
     "text": [
      "torch.Size([512, 3, 32, 32])\n",
      "torch.Size([512, 3, 32, 32])\n"
     ]
    },
    {
     "name": "stderr",
     "output_type": "stream",
     "text": [
      "\r 25%|██▌       | 5/20 [00:01<00:05,  2.82it/s]"
     ]
    },
    {
     "name": "stdout",
     "output_type": "stream",
     "text": [
      "torch.Size([512, 3, 32, 32])\n",
      "torch.Size([512, 3, 32, 32])\n"
     ]
    },
    {
     "name": "stderr",
     "output_type": "stream",
     "text": [
      "\r 30%|███       | 6/20 [00:02<00:04,  2.85it/s]"
     ]
    },
    {
     "name": "stdout",
     "output_type": "stream",
     "text": [
      "torch.Size([512, 3, 32, 32])\n",
      "torch.Size([512, 3, 32, 32])\n"
     ]
    },
    {
     "name": "stderr",
     "output_type": "stream",
     "text": [
      "\r 35%|███▌      | 7/20 [00:02<00:04,  2.82it/s]"
     ]
    },
    {
     "name": "stdout",
     "output_type": "stream",
     "text": [
      "torch.Size([512, 3, 32, 32])\n",
      "torch.Size([512, 3, 32, 32])\n"
     ]
    },
    {
     "name": "stderr",
     "output_type": "stream",
     "text": [
      "\r 40%|████      | 8/20 [00:02<00:04,  2.76it/s]"
     ]
    },
    {
     "name": "stdout",
     "output_type": "stream",
     "text": [
      "torch.Size([512, 3, 32, 32])\n",
      "torch.Size([512, 3, 32, 32])\n"
     ]
    },
    {
     "name": "stderr",
     "output_type": "stream",
     "text": [
      "\r 45%|████▌     | 9/20 [00:03<00:04,  2.72it/s]"
     ]
    },
    {
     "name": "stdout",
     "output_type": "stream",
     "text": [
      "torch.Size([512, 3, 32, 32])\n",
      "torch.Size([512, 3, 32, 32])\n"
     ]
    },
    {
     "name": "stderr",
     "output_type": "stream",
     "text": [
      "\r 50%|█████     | 10/20 [00:03<00:03,  2.68it/s]"
     ]
    },
    {
     "name": "stdout",
     "output_type": "stream",
     "text": [
      "torch.Size([512, 3, 32, 32])\n",
      "torch.Size([512, 3, 32, 32])\n"
     ]
    },
    {
     "name": "stderr",
     "output_type": "stream",
     "text": [
      "\r 55%|█████▌    | 11/20 [00:04<00:03,  2.64it/s]"
     ]
    },
    {
     "name": "stdout",
     "output_type": "stream",
     "text": [
      "torch.Size([512, 3, 32, 32])\n",
      "torch.Size([512, 3, 32, 32])\n"
     ]
    },
    {
     "name": "stderr",
     "output_type": "stream",
     "text": [
      "\r 60%|██████    | 12/20 [00:04<00:02,  2.83it/s]"
     ]
    },
    {
     "name": "stdout",
     "output_type": "stream",
     "text": [
      "torch.Size([512, 3, 32, 32])\n",
      "torch.Size([512, 3, 32, 32])\n"
     ]
    },
    {
     "name": "stderr",
     "output_type": "stream",
     "text": [
      "\r 65%|██████▌   | 13/20 [00:04<00:02,  3.00it/s]"
     ]
    },
    {
     "name": "stdout",
     "output_type": "stream",
     "text": [
      "torch.Size([512, 3, 32, 32])\n",
      "torch.Size([512, 3, 32, 32])\n"
     ]
    },
    {
     "name": "stderr",
     "output_type": "stream",
     "text": [
      "\r 70%|███████   | 14/20 [00:04<00:01,  3.17it/s]"
     ]
    },
    {
     "name": "stdout",
     "output_type": "stream",
     "text": [
      "torch.Size([512, 3, 32, 32])\n",
      "torch.Size([512, 3, 32, 32])\n"
     ]
    },
    {
     "name": "stderr",
     "output_type": "stream",
     "text": [
      "\r 75%|███████▌  | 15/20 [00:05<00:01,  3.30it/s]"
     ]
    },
    {
     "name": "stdout",
     "output_type": "stream",
     "text": [
      "torch.Size([512, 3, 32, 32])\n",
      "torch.Size([512, 3, 32, 32])\n"
     ]
    },
    {
     "name": "stderr",
     "output_type": "stream",
     "text": [
      "\r 80%|████████  | 16/20 [00:05<00:01,  3.39it/s]"
     ]
    },
    {
     "name": "stdout",
     "output_type": "stream",
     "text": [
      "torch.Size([512, 3, 32, 32])\n",
      "torch.Size([512, 3, 32, 32])\n"
     ]
    },
    {
     "name": "stderr",
     "output_type": "stream",
     "text": [
      "\r 85%|████████▌ | 17/20 [00:05<00:00,  3.45it/s]"
     ]
    },
    {
     "name": "stdout",
     "output_type": "stream",
     "text": [
      "torch.Size([512, 3, 32, 32])\n",
      "torch.Size([512, 3, 32, 32])\n"
     ]
    },
    {
     "name": "stderr",
     "output_type": "stream",
     "text": [
      "\r 90%|█████████ | 18/20 [00:05<00:00,  3.53it/s]"
     ]
    },
    {
     "name": "stdout",
     "output_type": "stream",
     "text": [
      "torch.Size([512, 3, 32, 32])\n",
      "torch.Size([512, 3, 32, 32])\n"
     ]
    },
    {
     "name": "stderr",
     "output_type": "stream",
     "text": [
      "100%|██████████| 20/20 [00:06<00:00,  3.13it/s]"
     ]
    },
    {
     "name": "stdout",
     "output_type": "stream",
     "text": [
      "torch.Size([512, 3, 32, 32])\n",
      "torch.Size([512, 3, 32, 32])\n",
      "torch.Size([272, 3, 32, 32])\n",
      "torch.Size([272, 3, 32, 32])\n",
      "Test MSE: 0.00021097524687647818\n"
     ]
    },
    {
     "name": "stderr",
     "output_type": "stream",
     "text": [
      "\n"
     ]
    }
   ],
   "source": [
    "seed_everything(464)\n",
    "model = CifarAutoencoder()  # Create the model\n",
    "model = model.to(device)\n",
    "\n",
    "train_losses = train_model(\n",
    "    model,\n",
    "    train_dataloader,\n",
    "    optim.Adam(model.parameters(), lr=2e-4),\n",
    "    nn.MSELoss(reduction=\"mean\"),\n",
    "    50,\n",
    ")\n",
    "\n",
    "# Plot the training loss vs epoch graph to visualize the training process\n",
    "plt.figure(figsize=(10, 5))\n",
    "plt.plot(range(1, 51), train_losses, label=\"Training Loss\")\n",
    "plt.xlabel(\"Epoch\")\n",
    "plt.ylabel(\"Loss\")\n",
    "plt.title(\"Training Loss vs Epochs\")\n",
    "plt.legend()\n",
    "plt.show()\n",
    "\n",
    "print(f\"Test MSE: {evaluate_model(model, test_dataloader)}\")"
   ]
  },
  {
   "cell_type": "code",
   "execution_count": null,
   "metadata": {
    "colab": {
     "base_uri": "https://localhost:8080/",
     "height": 182
    },
    "id": "IgiD1WG-ZRgf",
    "outputId": "c6bac47c-9ca5-467b-b338-5e60316f0f65"
   },
   "outputs": [
    {
     "data": {
      "image/png": "[encoded data removed]",
      "text/plain": [
       "<Figure size 640x480 with 1 Axes>"
      ]
     },
     "metadata": {},
     "output_type": "display_data"
    }
   ],
   "source": [
    "visualize_inpainting(model, test_dataset)"
   ]
  }
 ],
 "metadata": {
  "accelerator": "GPU",
  "colab": {
   "gpuType": "T4",
   "provenance": []
  },
  "gpuClass": "standard",
  "kernelspec": {
   "display_name": "Python 3",
   "language": "python",
   "name": "python3"
  },
  "language_info": {
   "codemirror_mode": {
    "name": "ipython",
    "version": 3
   },
   "file_extension": ".py",
   "mimetype": "text/x-python",
   "name": "python",
   "nbconvert_exporter": "python",
   "pygments_lexer": "ipython3",
   "version": "3.13.1"
  }
 },
 "nbformat": 4,
 "nbformat_minor": 0
}
